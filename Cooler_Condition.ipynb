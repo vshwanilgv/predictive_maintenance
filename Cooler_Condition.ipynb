{
 "cells": [
  {
   "cell_type": "code",
   "execution_count": 1,
   "id": "3b434a98-aceb-428d-8743-0e38a1a7ea54",
   "metadata": {},
   "outputs": [],
   "source": [
    "import pandas as pd\n",
    "import numpy as np\n",
    "\n",
    "# df = pd.read_csv('datasets/PS1.csv', header=None)\n",
    "# PS1_average = df.mean(axis=1).round(2)\n",
    "# PS1_average.to_csv(\"datasets/PS1_average.csv\", index=False)\n",
    "\n",
    "# df = pd.read_csv('datasets/TS1.csv', header=None)\n",
    "# TS1_average = df.mean(axis=1).round(2)\n",
    "# TS1_average.to_csv(\"datasets/TS1_average.csv\", index=False)\n",
    "\n",
    "# df = pd.read_csv('datasets/VS1.csv', header=None)\n",
    "# VS1_average = df.mean(axis=1).round(2)\n",
    "# VS1_average.to_csv(\"datasets/VS1_average.csv\", index=False)\n",
    "\n",
    "# df = pd.read_csv('datasets/FS1.csv', header=None)\n",
    "# FS1_average = df.mean(axis=1).round(2)\n",
    "# FS1_average.to_csv(\"datasets/FS1_average.csv\", index=False)\n",
    "\n",
    "# df = pd.read_csv('datasets/EPS1.csv', header=None)\n",
    "# EPS1_average = df.mean(axis=1).round(2)\n",
    "# EPS1_average.to_csv(\"datasets/EPS1_average.csv\", index=False)"
   ]
  },
  {
   "cell_type": "code",
   "execution_count": 2,
   "id": "a9ce1dae-c799-4ea5-aaf6-fb219e8cb60b",
   "metadata": {},
   "outputs": [],
   "source": [
    "files = ['datasets/PS1_average.csv', 'datasets/TS1_average.csv', 'datasets/VS1_average.csv','datasets/FS1_average.csv', 'datasets/EPS1_average.csv']\n",
    "# profile_file = 'datasets/profile.csv'\n",
    "# data_dfs = [pd.read_csv(file) for file in files]\n",
    "# combined_df = pd.concat(data_dfs, axis=1)\n",
    "\n",
    "# profile_df = pd.read_csv(profile_file)\n",
    "# cooler_condition = profile_df[['cooler_condition']]\n",
    "# valve_condition = profile_df[['valve_condition']]\n",
    "# internal_pump_leakage = profile_df[['internal_pump_leakage']]\n",
    "# hydraulic_accumulator = profile_df[['hydraulic_accumulator']]\n",
    "# stable_flag = profile_df[['stable_flag']]\n",
    "\n",
    "\n",
    "# cooler_df = pd.concat([combined_df, cooler_condition], axis=1)\n",
    "# cooler_df.to_csv('datasets/cooler_condition.csv', index=False)\n",
    "\n",
    "# valve_df = pd.concat([combined_df, valve_condition], axis=1)\n",
    "# valve_df.to_csv('datasets/valve_condition.csv', index=False)\n",
    "\n",
    "# pump_df = pd.concat([combined_df, internal_pump_leakage], axis=1)\n",
    "# pump_df.to_csv('datasets/internal_pump_leakage.csv', index=False)\n",
    "\n",
    "# stable_df = pd.concat([combined_df, stable_flag], axis=1)\n",
    "# stable_df.to_csv('datasets/stable_flag', index=False)\n",
    "\n",
    "# hydraulic_acc_df = pd.concat([combined_df, hydraulic_accumulator], axis=1)\n",
    "# hydraulic_acc_df.to_csv('datasets/hydraulic_accumulator.csv', index=False)"
   ]
  },
  {
   "cell_type": "code",
   "execution_count": 10,
   "id": "2df61716-54a4-4913-b702-f8a353da8a25",
   "metadata": {},
   "outputs": [],
   "source": [
    "import pandas as pd\n",
    "from sklearn.model_selection import train_test_split\n",
    "from sklearn.preprocessing import StandardScaler, LabelEncoder\n",
    "from sklearn.metrics import accuracy_score, classification_report\n",
    "from xgboost import XGBClassifier\n",
    "\n",
    "from sklearn.preprocessing import StandardScaler\n",
    "\n",
    "data = pd.read_csv('datasets/cooler_condition.csv')\n",
    "\n",
    "X = data[['pressure','temperature','vibration','volume_flow','Motor_power']] \n",
    "\n",
    "y = data['cooler_condition']\n",
    "\n",
    "\n",
    "label_encoder = LabelEncoder()\n",
    "y_encoded = label_encoder.fit_transform(y)"
   ]
  },
  {
   "cell_type": "code",
   "execution_count": 11,
   "id": "232ae63f-3758-4011-9777-ad56db74a4cf",
   "metadata": {},
   "outputs": [],
   "source": [
    "X_train, X_test, y_train, y_test = train_test_split(X, y_encoded, test_size=0.2, random_state=42)\n"
   ]
  },
  {
   "cell_type": "code",
   "execution_count": 12,
   "id": "13901717-dd52-4ff8-ab4d-b292ce71a8d9",
   "metadata": {},
   "outputs": [],
   "source": [
    "scaler = StandardScaler()\n",
    "X_train_scaled = scaler.fit_transform(X_train)\n",
    "X_test_scaled = scaler.transform(X_test)\n"
   ]
  },
  {
   "cell_type": "code",
   "execution_count": 13,
   "id": "b8322274-3bc6-4e56-bafe-3df8763ad77f",
   "metadata": {},
   "outputs": [
    {
     "data": {
      "text/plain": [
       "array([100,  20, 100,   3, 100, 100,  20,   3, 100, 100, 100,   3, 100,\n",
       "       100,  20,   3,  20,   3,   3,  20,  20,   3, 100, 100,   3,   3,\n",
       "        20, 100,   3,   3,   3,   3,   3,  20, 100, 100,  20,   3, 100,\n",
       "         3, 100, 100, 100,   3, 100,  20, 100, 100, 100,   3, 100,  20,\n",
       "        20, 100,  20, 100, 100, 100, 100, 100,  20,  20,  20,   3,   3,\n",
       "         3,   3,   3,  20, 100,  20,   3,   3, 100,   3,  20, 100,   3,\n",
       "         3,  20,   3,  20,  20,   3,   3,   3, 100,   3, 100,   3, 100,\n",
       "        20, 100, 100,   3, 100,   3,  20,  20, 100,  20,   3,   3,   3,\n",
       "         3,   3, 100, 100, 100, 100,   3, 100, 100,   3,   3,  20, 100,\n",
       "       100,   3, 100, 100,   3, 100,  20,  20,   3,   3,  20, 100,   3,\n",
       "       100,  20, 100, 100,   3,  20,  20,  20,  20,   3,  20,   3, 100,\n",
       "        20,  20,  20,   3, 100, 100,   3,   3,   3,  20, 100, 100,  20,\n",
       "       100,  20, 100,   3,  20, 100,  20, 100,  20,   3,  20,   3, 100,\n",
       "         3, 100,   3, 100, 100,   3,  20, 100,   3,  20, 100,   3, 100,\n",
       "         3,  20,  20,  20,   3, 100,   3, 100, 100, 100,   3,  20,  20,\n",
       "        20,   3,   3,   3,  20,  20,  20, 100,  20, 100,   3,  20,   3,\n",
       "         3,  20, 100,   3, 100,   3, 100,  20,   3, 100, 100, 100,  20,\n",
       "         3, 100,  20,   3, 100,   3,  20,   3,  20,  20,   3, 100,   3,\n",
       "        20, 100,  20, 100, 100,   3,   3,  20, 100, 100,   3, 100,  20,\n",
       "         3,   3, 100, 100,   3,  20,  20,   3,   3,   3,  20,   3,   3,\n",
       "       100,  20, 100,   3,  20,   3,   3, 100, 100,  20,   3,  20,  20,\n",
       "        20,  20,   3, 100,   3,   3, 100,   3,   3,   3, 100,  20, 100,\n",
       "       100,   3,  20,   3,   3,  20,  20, 100, 100,   3, 100,   3, 100,\n",
       "       100, 100,  20,  20,   3, 100,   3,  20,   3,   3,  20,   3,   3,\n",
       "       100,   3, 100,   3,  20, 100,   3,  20, 100,  20,   3,  20,   3,\n",
       "        20,  20,   3, 100,   3, 100, 100,  20,  20,  20, 100,  20, 100,\n",
       "       100,  20, 100,  20, 100,   3,  20,  20,  20,   3,   3, 100,   3,\n",
       "       100,   3, 100,   3,  20, 100, 100,  20,  20,  20,   3,   3, 100,\n",
       "         3,  20, 100, 100,   3, 100,  20,  20,  20,  20,  20, 100,   3,\n",
       "         3,  20, 100,  20,  20,   3, 100,   3,  20, 100,  20,  20,   3,\n",
       "        20,   3,  20,  20, 100,  20,   3,  20, 100,  20, 100,   3,   3,\n",
       "        20, 100,  20,  20,  20,  20, 100, 100,  20,  20, 100,   3, 100,\n",
       "         3,   3, 100,  20, 100, 100, 100, 100,  20,   3, 100, 100,  20,\n",
       "         3,   3,   3,  20, 100, 100,   3,  20,  20, 100,   3,   3])"
      ]
     },
     "execution_count": 13,
     "metadata": {},
     "output_type": "execute_result"
    }
   ],
   "source": [
    "model = XGBClassifier( eval_metric='mlogloss', random_state=42)\n",
    "model.fit(X_train_scaled, y_train)\n",
    "\n",
    "y_pred = model.predict(X_test_scaled)\n",
    "\n",
    "y_pred_labels = label_encoder.inverse_transform(y_pred)\n",
    "y_pred_labels"
   ]
  },
  {
   "cell_type": "code",
   "execution_count": 14,
   "id": "18e523f7-9926-443e-8873-e0c6eb400a07",
   "metadata": {},
   "outputs": [
    {
     "name": "stdout",
     "output_type": "stream",
     "text": [
      "Accuracy: 0.9931972789115646\n",
      "Classification Report:\n",
      "               precision    recall  f1-score   support\n",
      "\n",
      "           0       1.00      0.99      1.00       152\n",
      "           1       0.98      1.00      0.99       135\n",
      "           2       1.00      0.99      0.99       154\n",
      "\n",
      "    accuracy                           0.99       441\n",
      "   macro avg       0.99      0.99      0.99       441\n",
      "weighted avg       0.99      0.99      0.99       441\n",
      "\n"
     ]
    }
   ],
   "source": [
    "accuracy = accuracy_score(y_test, y_pred)\n",
    "print(\"Accuracy:\", accuracy)\n",
    "print(\"Classification Report:\\n\", classification_report(y_test, y_pred))\n"
   ]
  },
  {
   "cell_type": "code",
   "execution_count": 15,
   "id": "9fcaa595-5b9a-4ccf-950a-6e7075251af3",
   "metadata": {},
   "outputs": [
    {
     "data": {
      "image/png": "[encoded data removed]",
      "text/plain": [
       "<Figure size 800x600 with 2 Axes>"
      ]
     },
     "metadata": {},
     "output_type": "display_data"
    }
   ],
   "source": [
    "import seaborn as sns\n",
    "from sklearn.metrics import confusion_matrix\n",
    "import matplotlib.pyplot as plt\n",
    "cm = confusion_matrix(y_test, y_pred)\n",
    "\n",
    "plt.figure(figsize=(8, 6))\n",
    "sns.heatmap(cm, annot=True, fmt='d', cmap='Blues', xticklabels=label_encoder.classes_, yticklabels=label_encoder.classes_)\n",
    "plt.xlabel('Predicted Labels')\n",
    "plt.ylabel('True Labels')\n",
    "plt.title('Confusion Matrix')\n",
    "plt.show()\n",
    "\n"
   ]
  },
  {
   "cell_type": "code",
   "execution_count": 16,
   "id": "ff2b4a87-f96b-4d21-96a5-e7b2f48e2ae9",
   "metadata": {},
   "outputs": [
    {
     "data": {
      "text/plain": [
       "['scaler.pkl']"
      ]
     },
     "execution_count": 16,
     "metadata": {},
     "output_type": "execute_result"
    }
   ],
   "source": [
    "import joblib\n",
    "\n",
    "joblib.dump(model, 'cooler_condition_model.pkl')\n",
    "joblib.dump(scaler, 'scaler.pkl')"
   ]
  },
  {
   "cell_type": "code",
   "execution_count": null,
   "id": "ac665ef7-cee2-48b1-ac02-803915a632e2",
   "metadata": {},
   "outputs": [],
   "source": []
  }
 ],
 "metadata": {
  "kernelspec": {
   "display_name": "Python 3 (ipykernel)",
   "language": "python",
   "name": "python3"
  },
  "language_info": {
   "codemirror_mode": {
    "name": "ipython",
    "version": 3
   },
   "file_extension": ".py",
   "mimetype": "text/x-python",
   "name": "python",
   "nbconvert_exporter": "python",
   "pygments_lexer": "ipython3",
   "version": "3.9.6"
  }
 },
 "nbformat": 4,
 "nbformat_minor": 5
}
