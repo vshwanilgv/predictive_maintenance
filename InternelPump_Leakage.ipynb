{
 "cells": [
  {
   "cell_type": "code",
   "execution_count": 13,
   "id": "8e467122-e121-426e-ad47-c0003b3fb296",
   "metadata": {},
   "outputs": [],
   "source": [
    "import pandas as pd\n",
    "from sklearn.model_selection import train_test_split\n",
    "from sklearn.preprocessing import StandardScaler, LabelEncoder\n",
    "from sklearn.metrics import accuracy_score, classification_report\n",
    "from xgboost import XGBClassifier\n",
    "\n",
    "\n",
    "data = pd.read_csv('datasets/internal_pump_leakage.csv')\n",
    "\n",
    "\n",
    "X = data[['pressure', 'temperature', 'vibration', 'volume_flow', 'Motor_power']]\n",
    "y = data['internal_pump_leakage']\n",
    "\n",
    "label_encoder = LabelEncoder()\n",
    "y_encoded = label_encoder.fit_transform(y)"
   ]
  },
  {
   "cell_type": "code",
   "execution_count": 14,
   "id": "0868ce16-ddf1-48cb-81cc-7fb32e096be7",
   "metadata": {},
   "outputs": [],
   "source": [
    "X_train, X_test, y_train, y_test = train_test_split(X, y_encoded, test_size=0.2, random_state=42)"
   ]
  },
  {
   "cell_type": "code",
   "execution_count": 15,
   "id": "0e951bfb-8c0b-42e7-b865-b8fd52b7c88f",
   "metadata": {},
   "outputs": [],
   "source": [
    "scaler = StandardScaler()\n",
    "X_train_scaled = scaler.fit_transform(X_train)\n",
    "X_test_scaled = scaler.transform(X_test)"
   ]
  },
  {
   "cell_type": "code",
   "execution_count": 16,
   "id": "1f129140-7ae7-452c-b68b-040eae9220e2",
   "metadata": {},
   "outputs": [
    {
     "data": {
      "text/plain": [
       "array([2, 2, 0, 0, 0, 2, 0, 1, 0, 0, 1, 2, 0, 0, 1, 1, 2, 0, 0, 0, 0, 2,\n",
       "       1, 1, 1, 1, 1, 1, 1, 0, 0, 1, 0, 1, 1, 1, 0, 0, 0, 2, 1, 2, 0, 0,\n",
       "       0, 1, 0, 0, 2, 2, 0, 0, 0, 0, 1, 2, 0, 2, 0, 2, 1, 2, 0, 0, 0, 0,\n",
       "       2, 1, 1, 2, 2, 0, 0, 1, 0, 1, 1, 2, 0, 0, 0, 1, 0, 0, 2, 2, 0, 0,\n",
       "       0, 1, 1, 2, 1, 0, 2, 0, 0, 1, 1, 1, 0, 2, 1, 0, 2, 1, 0, 1, 0, 0,\n",
       "       2, 1, 0, 2, 1, 2, 2, 0, 0, 0, 0, 0, 0, 2, 0, 0, 1, 0, 0, 1, 0, 0,\n",
       "       0, 0, 0, 1, 0, 0, 1, 2, 1, 1, 0, 0, 2, 2, 0, 0, 2, 1, 2, 2, 2, 1,\n",
       "       0, 0, 0, 0, 0, 0, 0, 0, 0, 1, 0, 0, 0, 0, 1, 1, 0, 0, 2, 1, 1, 0,\n",
       "       0, 2, 1, 2, 1, 0, 2, 0, 1, 0, 0, 1, 2, 2, 0, 0, 0, 1, 1, 0, 2, 0,\n",
       "       0, 0, 2, 0, 0, 2, 0, 0, 1, 2, 2, 2, 1, 0, 0, 2, 1, 0, 0, 0, 0, 2,\n",
       "       0, 1, 0, 0, 2, 1, 1, 2, 0, 0, 0, 1, 1, 1, 0, 2, 1, 0, 0, 0, 0, 0,\n",
       "       2, 0, 0, 1, 0, 0, 2, 0, 1, 2, 2, 2, 0, 2, 2, 0, 2, 0, 1, 2, 0, 1,\n",
       "       2, 2, 0, 2, 2, 2, 0, 2, 1, 0, 0, 0, 2, 0, 0, 0, 0, 1, 1, 2, 1, 0,\n",
       "       0, 0, 1, 0, 2, 0, 1, 0, 2, 1, 2, 1, 0, 0, 1, 0, 0, 1, 0, 2, 1, 0,\n",
       "       0, 0, 0, 0, 2, 2, 0, 2, 0, 0, 2, 1, 0, 0, 0, 2, 0, 0, 2, 0, 0, 1,\n",
       "       0, 2, 0, 2, 1, 2, 2, 0, 1, 0, 0, 0, 2, 0, 0, 2, 0, 2, 1, 0, 0, 2,\n",
       "       0, 2, 0, 2, 1, 1, 0, 2, 0, 0, 0, 1, 1, 0, 2, 1, 0, 2, 0, 0, 0, 0,\n",
       "       1, 0, 2, 1, 0, 0, 0, 2, 0, 2, 2, 0, 0, 0, 1, 1, 1, 1, 2, 0, 2, 1,\n",
       "       0, 2, 0, 0, 2, 0, 2, 0, 1, 0, 0, 0, 0, 1, 2, 2, 2, 2, 0, 0, 0, 1,\n",
       "       0, 0, 0, 2, 1, 0, 0, 0, 1, 2, 2, 0, 0, 0, 0, 0, 2, 0, 0, 0, 1, 0,\n",
       "       0])"
      ]
     },
     "execution_count": 16,
     "metadata": {},
     "output_type": "execute_result"
    }
   ],
   "source": [
    "model = XGBClassifier( eval_metric='mlogloss', random_state=42)\n",
    "model.fit(X_train_scaled, y_train)\n",
    "\n",
    "y_pred = model.predict(X_test_scaled)\n",
    "y_pred_labels = label_encoder.inverse_transform(y_pred)\n",
    "y_pred_labels"
   ]
  },
  {
   "cell_type": "code",
   "execution_count": 17,
   "id": "703b2233-c9a2-4ec6-858b-3d345cc2fcc3",
   "metadata": {},
   "outputs": [
    {
     "name": "stdout",
     "output_type": "stream",
     "text": [
      "Accuracy: 0.9954648526077098\n",
      "Classification Report:\n",
      "               precision    recall  f1-score   support\n",
      "\n",
      "           0       1.00      1.00      1.00       228\n",
      "           1       0.98      1.00      0.99       101\n",
      "           2       1.00      0.98      0.99       112\n",
      "\n",
      "    accuracy                           1.00       441\n",
      "   macro avg       0.99      0.99      0.99       441\n",
      "weighted avg       1.00      1.00      1.00       441\n",
      "\n"
     ]
    }
   ],
   "source": [
    "accuracy = accuracy_score(y_test, y_pred)\n",
    "print(\"Accuracy:\", accuracy)\n",
    "print(\"Classification Report:\\n\", classification_report(y_test, y_pred))"
   ]
  },
  {
   "cell_type": "code",
   "execution_count": 18,
   "id": "6cf30cef-9a9d-4a12-8134-57f9b44ac0a2",
   "metadata": {
    "scrolled": true
   },
   "outputs": [
    {
     "data": {
      "image/png": "[encoded data removed]",
      "text/plain": [
       "<Figure size 800x600 with 2 Axes>"
      ]
     },
     "metadata": {},
     "output_type": "display_data"
    }
   ],
   "source": [
    "\n",
    "import matplotlib.pyplot as plt\n",
    "import seaborn as sns\n",
    "from sklearn.metrics import confusion_matrix\n",
    "\n",
    "cm = confusion_matrix(y_test, y_pred)\n",
    "\n",
    "plt.figure(figsize=(8, 6))\n",
    "sns.heatmap(cm, annot=True, fmt='d', cmap='Blues', xticklabels=label_encoder.classes_, yticklabels=label_encoder.classes_)\n",
    "plt.xlabel('Predicted Labels')\n",
    "plt.ylabel('True Labels')\n",
    "plt.title('Confusion Matrix')\n",
    "plt.show()\n"
   ]
  },
  {
   "cell_type": "code",
   "execution_count": 19,
   "id": "d0620b67-4df6-4759-9bb1-e3bee7fbbd79",
   "metadata": {},
   "outputs": [
    {
     "data": {
      "text/plain": [
       "['internal_pump_leakage_label_encoder.pkl']"
      ]
     },
     "execution_count": 19,
     "metadata": {},
     "output_type": "execute_result"
    }
   ],
   "source": [
    "import joblib\n",
    "\n",
    "joblib.dump(model, 'internal_pump_leakage_model.pkl')\n",
    "joblib.dump(scaler, 'internal_pump_leakage_scaler.pkl')\n",
    "joblib.dump(label_encoder, 'internal_pump_leakage_label_encoder.pkl')"
   ]
  },
  {
   "cell_type": "code",
   "execution_count": null,
   "id": "8bb8b5c8-8528-4d1a-b452-0fb517a532b5",
   "metadata": {},
   "outputs": [],
   "source": []
  }
 ],
 "metadata": {
  "kernelspec": {
   "display_name": "Python 3 (ipykernel)",
   "language": "python",
   "name": "python3"
  },
  "language_info": {
   "codemirror_mode": {
    "name": "ipython",
    "version": 3
   },
   "file_extension": ".py",
   "mimetype": "text/x-python",
   "name": "python",
   "nbconvert_exporter": "python",
   "pygments_lexer": "ipython3",
   "version": "3.9.6"
  }
 },
 "nbformat": 4,
 "nbformat_minor": 5
}
